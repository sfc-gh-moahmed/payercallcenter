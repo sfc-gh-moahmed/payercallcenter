{
 "cells": [
  {
   "cell_type": "markdown",
   "metadata": {},
   "source": [
    "# This is a sample Jupyter notebook!"
   ]
  },
  {
   "cell_type": "markdown",
   "metadata": {},
   "source": [
    "### Create a connection to your Snowflake account using the provide oauth token"
   ]
  },
  {
   "cell_type": "code",
   "execution_count": 1,
   "metadata": {},
   "outputs": [],
   "source": [
    "from snowflake.snowpark import Session\n",
    "import snowflake.snowpark.functions as F\n",
    "import os\n",
    "\n",
    "def get_login_token():\n",
    "    with open('/snowflake/session/token', 'r') as f:\n",
    "        return f.read()"
   ]
  },
  {
   "cell_type": "code",
   "execution_count": null,
   "metadata": {},
   "outputs": [],
   "source": [
    "connection_parameters = {\n",
    "    \"account\": os.getenv('SNOWFLAKE_ACCOUNT'),\n",
    "    \"host\": os.getenv('SNOWFLAKE_HOST'),\n",
    "    \"token\": get_login_token(),\n",
    "    \"authenticator\": \"oauth\",\n",
    "    \"database\": \"CONTAINER_HOL_DB\",\n",
    "    \"schema\": \"PUBLIC\",\n",
    "    \"warehouse\": \"CONTAINER_HOL_WH\"\n",
    "}"
   ]
  },
  {
   "cell_type": "code",
   "execution_count": null,
   "metadata": {},
   "outputs": [],
   "source": [
    "session = Session.builder.configs(connection_parameters).create()\n",
    "print(\"Current session info: Warehouse: {}  Database: {}    Schema: {}  Role: {}\".format(session.get_current_warehouse(), session.get_current_database(), session.get_current_schema(), session.get_current_role()))"
   ]
  },
  {
   "cell_type": "markdown",
   "metadata": {},
   "source": [
    "## Pause here until after you set up the second REST API service!!!"
   ]
  },
  {
   "cell_type": "markdown",
   "metadata": {},
   "source": [
    "### Call the REST API temperature conversion service function using the Snowpark API\n",
    "Copy and paste the sample Snowpark code from the quickstart into a new cell below and execute it to call our REST API service function."
   ]
  }
 ],
 "metadata": {
  "kernelspec": {
   "display_name": "spcs-hol",
   "language": "python",
   "name": "python3"
  },
  "language_info": {
   "codemirror_mode": {
    "name": "ipython",
    "version": 3
   },
   "file_extension": ".py",
   "mimetype": "text/x-python",
   "name": "python",
   "nbconvert_exporter": "python",
   "pygments_lexer": "ipython3",
   "version": "3.10.13"
  }
 },
 "nbformat": 4,
 "nbformat_minor": 2
}
